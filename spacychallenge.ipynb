{
  "nbformat": 4,
  "nbformat_minor": 0,
  "metadata": {
    "colab": {
      "name": "spacychallenge.ipynb",
      "version": "0.3.2",
      "provenance": [],
      "include_colab_link": true
    },
    "kernelspec": {
      "name": "python3",
      "display_name": "Python 3"
    }
  },
  "cells": [
    {
      "cell_type": "markdown",
      "metadata": {
        "id": "view-in-github",
        "colab_type": "text"
      },
      "source": [
        "[View in Colaboratory](https://colab.research.google.com/github/vghorakavi/Fun-Challenges/blob/master/spacychallenge.ipynb)"
      ]
    },
    {
      "metadata": {
        "id": "3ZIuZJXsHigc",
        "colab_type": "code",
        "colab": {}
      },
      "cell_type": "code",
      "source": [
        "import subprocess\n",
        "import nbformat\n",
        "import json, os\n",
        "import random\n",
        "import spacy"
      ],
      "execution_count": 0,
      "outputs": []
    }
  ]
}